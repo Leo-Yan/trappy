{
 "cells": [
  {
   "cell_type": "code",
   "execution_count": 44,
   "metadata": {
    "collapsed": false
   },
   "outputs": [
    {
     "name": "stdout",
     "output_type": "stream",
     "text": [
      "Populating the interactive namespace from numpy and matplotlib\n"
     ]
    }
   ],
   "source": [
    "%pylab inline\n",
    "import sys,os\n",
    "sys.path.append(\"..\")\n",
    "import tempfile\n",
    "import shutil\n",
    "import trappy\n",
    "trace_sched = \"/home/leoy/Documents/Work_disk/tools/x86/trappy/tests/trace_sched.txt\""
   ]
  },
  {
   "cell_type": "code",
   "execution_count": 45,
   "metadata": {
    "collapsed": true
   },
   "outputs": [],
   "source": [
    "def setup_sched():\n",
    "    tDir = tempfile.mkdtemp(dir=\"/tmp\", prefix=\"trappy_doc\", suffix = \".tempDir\")\n",
    "    shutil.copyfile(trace_sched, os.path.join(tDir, \"trace.txt\"))\n",
    "    return tDir"
   ]
  },
  {
   "cell_type": "code",
   "execution_count": 46,
   "metadata": {
    "collapsed": true
   },
   "outputs": [],
   "source": [
    "temp_sched_location = setup_sched()\n",
    "run1 = trappy.Run(temp_sched_location)"
   ]
  },
  {
   "cell_type": "code",
   "execution_count": 47,
   "metadata": {
    "collapsed": false
   },
   "outputs": [
    {
     "data": {
      "text/html": [
       "<div>\n",
       "<table border=\"1\" class=\"dataframe\">\n",
       "  <thead>\n",
       "    <tr style=\"text-align: right;\">\n",
       "      <th></th>\n",
       "      <th>__comm</th>\n",
       "      <th>__cpu</th>\n",
       "      <th>__pid</th>\n",
       "      <th>cpu</th>\n",
       "      <th>load</th>\n",
       "      <th>utilization</th>\n",
       "    </tr>\n",
       "    <tr>\n",
       "      <th>Time</th>\n",
       "      <th></th>\n",
       "      <th></th>\n",
       "      <th></th>\n",
       "      <th></th>\n",
       "      <th></th>\n",
       "      <th></th>\n",
       "    </tr>\n",
       "  </thead>\n",
       "  <tbody>\n",
       "    <tr>\n",
       "      <th>0.000002</th>\n",
       "      <td>sshd</td>\n",
       "      <td>0</td>\n",
       "      <td>2962</td>\n",
       "      <td>0</td>\n",
       "      <td>13</td>\n",
       "      <td>18</td>\n",
       "    </tr>\n",
       "  </tbody>\n",
       "</table>\n",
       "</div>"
      ],
      "text/plain": [
       "         __comm  __cpu  __pid  cpu  load  utilization\n",
       "Time                                                 \n",
       "0.000002   sshd      0   2962    0    13           18"
      ]
     },
     "execution_count": 47,
     "metadata": {},
     "output_type": "execute_result"
    }
   ],
   "source": [
    "run1.sched_load_avg_cpu.data_frame"
   ]
  },
  {
   "cell_type": "code",
   "execution_count": 48,
   "metadata": {
    "collapsed": false
   },
   "outputs": [
    {
     "data": {
      "text/html": [
       "<div>\n",
       "<table border=\"1\" class=\"dataframe\">\n",
       "  <thead>\n",
       "    <tr style=\"text-align: right;\">\n",
       "      <th></th>\n",
       "      <th>__comm</th>\n",
       "      <th>__cpu</th>\n",
       "      <th>__pid</th>\n",
       "      <th>avg_period</th>\n",
       "      <th>comm</th>\n",
       "      <th>load</th>\n",
       "      <th>pid</th>\n",
       "      <th>runnable_avg_sum</th>\n",
       "      <th>running_avg_sum</th>\n",
       "      <th>utilization</th>\n",
       "    </tr>\n",
       "    <tr>\n",
       "      <th>Time</th>\n",
       "      <th></th>\n",
       "      <th></th>\n",
       "      <th></th>\n",
       "      <th></th>\n",
       "      <th></th>\n",
       "      <th></th>\n",
       "      <th></th>\n",
       "      <th></th>\n",
       "      <th></th>\n",
       "      <th></th>\n",
       "    </tr>\n",
       "  </thead>\n",
       "  <tbody>\n",
       "    <tr>\n",
       "      <th>9.999994e-07</th>\n",
       "      <td>trace-cmd</td>\n",
       "      <td>4</td>\n",
       "      <td>2971</td>\n",
       "      <td>48595</td>\n",
       "      <td>sshd</td>\n",
       "      <td>0</td>\n",
       "      <td>2962</td>\n",
       "      <td>0</td>\n",
       "      <td>0</td>\n",
       "      <td>0</td>\n",
       "    </tr>\n",
       "  </tbody>\n",
       "</table>\n",
       "</div>"
      ],
      "text/plain": [
       "                 __comm  __cpu  __pid  avg_period  comm  load   pid  \\\n",
       "Time                                                                  \n",
       "9.999994e-07  trace-cmd      4   2971       48595  sshd     0  2962   \n",
       "\n",
       "              runnable_avg_sum  running_avg_sum  utilization  \n",
       "Time                                                          \n",
       "9.999994e-07                 0                0            0  "
      ]
     },
     "execution_count": 48,
     "metadata": {},
     "output_type": "execute_result"
    }
   ],
   "source": [
    "trappy.Run(temp_sched_location).sched_load_avg_task.data_frame"
   ]
  },
  {
   "cell_type": "code",
   "execution_count": 49,
   "metadata": {
    "collapsed": false
   },
   "outputs": [],
   "source": [
    "events = { \n",
    "    '1001.456789' : { 'task': 'rcu_preempt',       'pid': 1123, 'cpu': 001 },\n",
    "    '1002.456789' : { 'task': 'rs:main',           'pid': 2123, 'cpu': 002 },\n",
    "    '1003.456789' : { 'task': 'AsyncTask #1',      'pid': 3123, 'cpu': 003 },\n",
    "    '1004.456789' : { 'task': 'kworker/1:1H',      'pid': 4123, 'cpu': 004 },\n",
    "    '1005.456789' : { 'task': 'jbd2/sda2-8',       'pid': 5123, 'cpu': 005 },\n",
    "}\n",
    "\n",
    "in_data = \"\"\"\"\"\"\n",
    "for timestamp in sorted(events):\n",
    "    in_data+=\"{0:>16s}-{1:d} [{2:04d}] {3:s}: event0:   tag=value\\n\".\\\n",
    "            format(\n",
    "                events[timestamp]['task'],\n",
    "                events[timestamp]['pid'],\n",
    "                events[timestamp]['cpu'],\n",
    "                timestamp\n",
    "                )\n",
    "\n",
    "with open(\"/tmp/trace1.txt\", \"w\") as fout:\n",
    "    fout.write(in_data)"
   ]
  },
  {
   "cell_type": "code",
   "execution_count": 50,
   "metadata": {
    "collapsed": false
   },
   "outputs": [
    {
     "data": {
      "text/html": [
       "<div>\n",
       "<table border=\"1\" class=\"dataframe\">\n",
       "  <thead>\n",
       "    <tr style=\"text-align: right;\">\n",
       "      <th></th>\n",
       "      <th>__comm</th>\n",
       "      <th>__cpu</th>\n",
       "      <th>__pid</th>\n",
       "      <th>tag</th>\n",
       "    </tr>\n",
       "    <tr>\n",
       "      <th>Time</th>\n",
       "      <th></th>\n",
       "      <th></th>\n",
       "      <th></th>\n",
       "      <th></th>\n",
       "    </tr>\n",
       "  </thead>\n",
       "  <tbody>\n",
       "    <tr>\n",
       "      <th>0</th>\n",
       "      <td>rcu_preempt</td>\n",
       "      <td>1</td>\n",
       "      <td>1123</td>\n",
       "      <td>value</td>\n",
       "    </tr>\n",
       "    <tr>\n",
       "      <th>1</th>\n",
       "      <td>rs:main</td>\n",
       "      <td>2</td>\n",
       "      <td>2123</td>\n",
       "      <td>value</td>\n",
       "    </tr>\n",
       "    <tr>\n",
       "      <th>2</th>\n",
       "      <td>AsyncTask #1</td>\n",
       "      <td>3</td>\n",
       "      <td>3123</td>\n",
       "      <td>value</td>\n",
       "    </tr>\n",
       "    <tr>\n",
       "      <th>3</th>\n",
       "      <td>kworker/1:1H</td>\n",
       "      <td>4</td>\n",
       "      <td>4123</td>\n",
       "      <td>value</td>\n",
       "    </tr>\n",
       "    <tr>\n",
       "      <th>4</th>\n",
       "      <td>jbd2/sda2-8</td>\n",
       "      <td>5</td>\n",
       "      <td>5123</td>\n",
       "      <td>value</td>\n",
       "    </tr>\n",
       "  </tbody>\n",
       "</table>\n",
       "</div>"
      ],
      "text/plain": [
       "            __comm  __cpu  __pid    tag\n",
       "Time                                   \n",
       "0      rcu_preempt      1   1123  value\n",
       "1          rs:main      2   2123  value\n",
       "2     AsyncTask #1      3   3123  value\n",
       "3     kworker/1:1H      4   4123  value\n",
       "4      jbd2/sda2-8      5   5123  value"
      ]
     },
     "execution_count": 50,
     "metadata": {},
     "output_type": "execute_result"
    }
   ],
   "source": [
    "trappy.register_dynamic('Event0', 'event0', scope=\"sched\")\n",
    "run3 = trappy.Run(\"/tmp/trace1.txt\")\n",
    "run3.event0.data_frame"
   ]
  },
  {
   "cell_type": "code",
   "execution_count": 51,
   "metadata": {
    "collapsed": false
   },
   "outputs": [
    {
     "data": {
      "text/html": [
       "<table style=\"width: 900px; border-style: hidden;\">\n",
       "<tr>\n",
       "<td style=\"border-style: hidden;\"><div class=\"ilineplot\" id=\"fig_25de0dc438214fb9ae719d32ffba4602\" style=\"width: 900px; height: 400px;\">\n",
       "            <script>\n",
       "            var ilp_req = require.config( {\n",
       "\n",
       "                paths: {\n",
       "                    \"dygraph-sync\": '/nbextensions/plotter_scripts/ILinePlot/synchronizer',\n",
       "                    \"dygraph\": '/nbextensions/plotter_scripts/ILinePlot/dygraph-combined',\n",
       "                    \"ILinePlot\": '/nbextensions/plotter_scripts/ILinePlot/ILinePlot',\n",
       "                    \"underscore\": '/nbextensions/plotter_scripts/ILinePlot/underscore-min',\n",
       "                },\n",
       "\n",
       "                shim: {\n",
       "                    \"dygraph-sync\": [\"dygraph\"],\n",
       "                    \"ILinePlot\": {\n",
       "\n",
       "                        \"deps\": [\"dygraph-sync\", \"dygraph\", \"underscore\"],\n",
       "                        \"exports\":  \"ILinePlot\"\n",
       "                    }\n",
       "                }\n",
       "            });\n",
       "                ilp_req([\"require\", \"ILinePlot\"], function() {\n",
       "                ILinePlot.generate('fig_25de0dc438214fb9ae719d32ffba4602', '/nbextensions/');\n",
       "            });\n",
       "            </script>\n",
       "        </div></td>\n",
       "</tr>\n",
       "<tr>\n",
       "<td style=\"border-style: hidden;\"><div style=\"text-align:right; width: 900px; height: auto;\"; id=\"fig_25de0dc438214fb9ae719d32ffba4602_legend\"></div></td>\n",
       "</tr>\n",
       "</table>"
      ],
      "text/plain": [
       "<IPython.core.display.HTML object>"
      ]
     },
     "metadata": {},
     "output_type": "display_data"
    }
   ],
   "source": [
    "    l = trappy.ILinePlot(\n",
    "            run1,                                            # TRAPpy run Object\n",
    "            run1.sched_load_avg_cpu,                         # TRAPpy Event (maps to a unique word in the Trace)\n",
    "            column=[                                         # Column(s)\n",
    "                \"load\",\n",
    "                \"utilization\"],\n",
    "            \n",
    "            filters={                                        # Filter the data  \n",
    "                \"cpu\": [\n",
    "                    0]},\n",
    "            pivot=\"cpu\",                                     # One plot for each pivot will be created\n",
    "        \n",
    "            per_line=1)                                      # Number of graphs per line\n",
    "    l.view()"
   ]
  }
 ],
 "metadata": {
  "kernelspec": {
   "display_name": "Python 2",
   "language": "python",
   "name": "python2"
  },
  "language_info": {
   "codemirror_mode": {
    "name": "ipython",
    "version": 2
   },
   "file_extension": ".py",
   "mimetype": "text/x-python",
   "name": "python",
   "nbconvert_exporter": "python",
   "pygments_lexer": "ipython2",
   "version": "2.7.10"
  }
 },
 "nbformat": 4,
 "nbformat_minor": 0
}
