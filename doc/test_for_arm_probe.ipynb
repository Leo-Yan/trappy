{
 "cells": [
  {
   "cell_type": "code",
   "execution_count": 15,
   "metadata": {
    "collapsed": false
   },
   "outputs": [
    {
     "data": {
      "text/plain": [
       "-9"
      ]
     },
     "execution_count": 15,
     "metadata": {},
     "output_type": "execute_result"
    }
   ],
   "source": [
    "import subprocess\n",
    "import psutil, time\n",
    "import os\n",
    "import signal\n",
    "\n",
    "def wait_timeout(proc, seconds):\n",
    "    \"\"\"Wait for a process to finish, or raise exception after timeout\"\"\"\n",
    "    start = time.time()\n",
    "    end = start + seconds\n",
    "    interval = min(seconds / 1000.0, .25)\n",
    "\n",
    "    while True:\n",
    "        result = proc.poll()\n",
    "        if result is not None:\n",
    "            return result\n",
    "        if time.time() >= end:\n",
    "            proc.kill()\n",
    "        time.sleep(interval)\n",
    "        \n",
    "pro = subprocess.Popen([\"arm-probe --config ~/Work/disk/tools/x86/arm-probe/config -m 300 -l 1000 -t 5 > /tmp/profile.txt\"], stdout=subprocess.PIPE, \n",
    "                       shell=True, preexec_fn=os.setsid) \n",
    "wait_timeout(pro, 5)"
   ]
  },
  {
   "cell_type": "code",
   "execution_count": null,
   "metadata": {
    "collapsed": true
   },
   "outputs": [],
   "source": []
  }
 ],
 "metadata": {
  "kernelspec": {
   "display_name": "Python 2",
   "language": "python",
   "name": "python2"
  },
  "language_info": {
   "codemirror_mode": {
    "name": "ipython",
    "version": 2
   },
   "file_extension": ".py",
   "mimetype": "text/x-python",
   "name": "python",
   "nbconvert_exporter": "python",
   "pygments_lexer": "ipython2",
   "version": "2.7.10"
  }
 },
 "nbformat": 4,
 "nbformat_minor": 0
}
